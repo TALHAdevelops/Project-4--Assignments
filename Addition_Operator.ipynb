{
  "nbformat": 4,
  "nbformat_minor": 0,
  "metadata": {
    "colab": {
      "provenance": [],
      "authorship_tag": "ABX9TyOFoGbQ5SnPEIdkcVp+Gw7A"
    },
    "kernelspec": {
      "name": "python3",
      "display_name": "Python 3"
    },
    "language_info": {
      "name": "python"
    }
  },
  "cells": [
    {
      "cell_type": "code",
      "execution_count": 5,
      "metadata": {
        "colab": {
          "base_uri": "https://localhost:8080/"
        },
        "id": "i4pjp8GaGNmQ",
        "outputId": "ee578d17-6a49-400e-9344-2419f76a358a"
      },
      "outputs": [
        {
          "output_type": "stream",
          "name": "stdout",
          "text": [
            "5\n"
          ]
        }
      ],
      "source": [
        "num_list = [1, 1, 1, 1 , 1]\n",
        "\n",
        "def num_add(lists) :\n",
        "   total_val = 0\n",
        "   for num in lists :\n",
        "      total_val += num\n",
        "\n",
        "\n",
        "   return total_val\n",
        "\n",
        "print(num_add(num_list))"
      ]
    }
  ]
}