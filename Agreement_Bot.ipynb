{
  "nbformat": 4,
  "nbformat_minor": 0,
  "metadata": {
    "colab": {
      "provenance": [],
      "authorship_tag": "ABX9TyMvyY3lnD5JWJ5uuqsHsox4",
      "include_colab_link": true
    },
    "kernelspec": {
      "name": "python3",
      "display_name": "Python 3"
    },
    "language_info": {
      "name": "python"
    }
  },
  "cells": [
    {
      "cell_type": "markdown",
      "metadata": {
        "id": "view-in-github",
        "colab_type": "text"
      },
      "source": [
        "<a href=\"https://colab.research.google.com/github/TALHAdevelops/Project-4--Assignments/blob/main/Agreement_Bot.ipynb\" target=\"_parent\"><img src=\"https://colab.research.google.com/assets/colab-badge.svg\" alt=\"Open In Colab\"/></a>"
      ]
    },
    {
      "cell_type": "code",
      "execution_count": 2,
      "metadata": {
        "colab": {
          "base_uri": "https://localhost:8080/"
        },
        "id": "3obQUwzao847",
        "outputId": "3d451cc9-8d02-4e8f-d467-2e8f7fcfc61f"
      },
      "outputs": [
        {
          "output_type": "stream",
          "name": "stdout",
          "text": [
            "What's your favourite animal? Horse\n",
            "My favourite animal is also Horse!\n"
          ]
        }
      ],
      "source": [
        "user_input = input(\"What's your favourite animal? \")\n",
        "message = f\"My favourite animal is also {user_input}!\"\n",
        "print(message)"
      ]
    }
  ]
}