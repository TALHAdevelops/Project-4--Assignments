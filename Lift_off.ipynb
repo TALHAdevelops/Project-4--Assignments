{
  "nbformat": 4,
  "nbformat_minor": 0,
  "metadata": {
    "colab": {
      "provenance": [],
      "authorship_tag": "ABX9TyP6IIw8jjbogwf1sbCSuwnB"
    },
    "kernelspec": {
      "name": "python3",
      "display_name": "Python 3"
    },
    "language_info": {
      "name": "python"
    }
  },
  "cells": [
    {
      "cell_type": "code",
      "execution_count": 9,
      "metadata": {
        "colab": {
          "base_uri": "https://localhost:8080/"
        },
        "id": "MYEq101NNhaB",
        "outputId": "beb08119-c3c0-4f23-b088-82c40969e547"
      },
      "outputs": [
        {
          "output_type": "stream",
          "name": "stdout",
          "text": [
            "10 9 8 7 6 5 4 3 2 1 Liftoff!\n"
          ]
        }
      ],
      "source": [
        "import time\n",
        "\n",
        "for i in range(10, 0, -1):\n",
        "    print(i, end=\" \")\n",
        "# Mein time slow krne k lye sleep bhi laga raha hoon but It's not in the prob stetment\n",
        "    time.sleep(1)\n",
        "print(\"Liftoff!\")\n"
      ]
    }
  ]
}