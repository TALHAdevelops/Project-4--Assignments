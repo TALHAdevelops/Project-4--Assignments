{
  "nbformat": 4,
  "nbformat_minor": 0,
  "metadata": {
    "colab": {
      "provenance": [],
      "authorship_tag": "ABX9TyPhdDq1wdp9z4sNF/i8aUA5"
    },
    "kernelspec": {
      "name": "python3",
      "display_name": "Python 3"
    },
    "language_info": {
      "name": "python"
    }
  },
  "cells": [
    {
      "cell_type": "code",
      "execution_count": 2,
      "metadata": {
        "colab": {
          "base_uri": "https://localhost:8080/"
        },
        "id": "sLvsxMYox1Pt",
        "outputId": "14c3b960-3659-4988-9b66-347afd0a7f3e"
      },
      "outputs": [
        {
          "output_type": "stream",
          "name": "stdout",
          "text": [
            "Please enter a number: 2\n",
            "The square of 2.0 is 4.0\n"
          ]
        }
      ],
      "source": [
        "user_input = float(input(\"Please enter a number: \"))\n",
        "num_sq = user_input ** 2\n",
        "print(f\"The square of {user_input} is {num_sq}\")"
      ]
    }
  ]
}