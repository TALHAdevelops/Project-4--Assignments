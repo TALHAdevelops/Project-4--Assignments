{
  "nbformat": 4,
  "nbformat_minor": 0,
  "metadata": {
    "colab": {
      "provenance": [],
      "authorship_tag": "ABX9TyMuFBWrOJWY0M116rFyw76S"
    },
    "kernelspec": {
      "name": "python3",
      "display_name": "Python 3"
    },
    "language_info": {
      "name": "python"
    }
  },
  "cells": [
    {
      "cell_type": "code",
      "execution_count": 2,
      "metadata": {
        "colab": {
          "base_uri": "https://localhost:8080/"
        },
        "id": "87YEgcTYvcqI",
        "outputId": "c69ac0a5-55c1-47b5-cd0a-256f58f23ae2"
      },
      "outputs": [
        {
          "output_type": "stream",
          "name": "stdout",
          "text": [
            "Enter your choice: \n",
            "'r' for ROCK, 'p' for PAPER, 's' for SICCORS\ts\n",
            "It's a Tie!\n"
          ]
        }
      ],
      "source": [
        "import random\n",
        "\n",
        "def game():\n",
        "    select_user = input(\"Enter your choice: \\n'r' for ROCK, 'p' for PAPER, 's' for SICCORS\\t\");\n",
        "    select_computer = random.choice(['r', 'p', 's']);\n",
        "\n",
        "\n",
        "\n",
        "    if select_user == select_computer:\n",
        "        return \"It's a Tie!\"\n",
        "\n",
        "\n",
        "    if result(select_user, select_computer):\n",
        "        return \"You won!\"\n",
        "    else:\n",
        "        return \"you lost!\"\n",
        "\n",
        "\n",
        "def result(user, computer):\n",
        "        if (user == 'r' and computer == 's') or (user == 'p' and computer == 'r') or (user == 's' and computer == 'p'):\n",
        "            return True;\n",
        "\n",
        "print(game())\n",
        "\n",
        "\n",
        ""
      ]
    }
  ]
}