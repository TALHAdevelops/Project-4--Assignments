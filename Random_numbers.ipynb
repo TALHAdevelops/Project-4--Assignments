{
  "nbformat": 4,
  "nbformat_minor": 0,
  "metadata": {
    "colab": {
      "provenance": [],
      "authorship_tag": "ABX9TyMWVZQsEE4kE+KKeWxjnlDm"
    },
    "kernelspec": {
      "name": "python3",
      "display_name": "Python 3"
    },
    "language_info": {
      "name": "python"
    }
  },
  "cells": [
    {
      "cell_type": "code",
      "execution_count": 1,
      "metadata": {
        "colab": {
          "base_uri": "https://localhost:8080/"
        },
        "id": "ReKXO27dR4SB",
        "outputId": "17da743f-da88-4580-8619-c0830ac86cf1"
      },
      "outputs": [
        {
          "output_type": "stream",
          "name": "stdout",
          "text": [
            "76 88 68 59 87 27 11 100 74 77 "
          ]
        }
      ],
      "source": [
        "import random\n",
        "\n",
        "for num in range(10):\n",
        "    print(random.randint(1, 100), end=\" \")\n",
        "\n"
      ]
    }
  ]
}