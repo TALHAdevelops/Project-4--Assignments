{
  "nbformat": 4,
  "nbformat_minor": 0,
  "metadata": {
    "colab": {
      "provenance": [],
      "authorship_tag": "ABX9TyMATALRYlB7uz6+MA0dd6Kl",
      "include_colab_link": true
    },
    "kernelspec": {
      "name": "python3",
      "display_name": "Python 3"
    },
    "language_info": {
      "name": "python"
    }
  },
  "cells": [
    {
      "cell_type": "markdown",
      "metadata": {
        "id": "view-in-github",
        "colab_type": "text"
      },
      "source": [
        "<a href=\"https://colab.research.google.com/github/TALHAdevelops/Project-4--Assignments/blob/main/Triangle_cal.ipynb\" target=\"_parent\"><img src=\"https://colab.research.google.com/assets/colab-badge.svg\" alt=\"Open In Colab\"/></a>"
      ]
    },
    {
      "cell_type": "code",
      "execution_count": 5,
      "metadata": {
        "colab": {
          "base_uri": "https://localhost:8080/"
        },
        "id": "dqgrC85IvZ49",
        "outputId": "a6f2018f-7811-4cb9-ad93-c23a39c4508d"
      },
      "outputs": [
        {
          "output_type": "stream",
          "name": "stdout",
          "text": [
            "What is the length of first side of your triangle? 13\n",
            "What is the length of second side of your triangle? 21\n",
            "What is the length of third side of your triangle? 32\n",
            "What calculation you wanna do for your triangle Area(a) or PARAMETER(p)? a\n",
            "The area of your triangle is 8736\n"
          ]
        }
      ],
      "source": [
        "side_1 = int(input(\"What is the length of first side of your triangle? \"))\n",
        "side_2 = int(input(\"What is the length of second side of your triangle? \"))\n",
        "side_3 = int(input(\"What is the length of third side of your triangle? \"))\n",
        "\n",
        "user_input = input(\"What calculation you wanna do for your triangle Area(a) or PARAMETER(p)? \").lower()\n",
        "\n",
        "if user_input == \"a\":\n",
        "  cal_area = side_1 * side_2 * side_3\n",
        "  print(f\"The area of your triangle is {cal_area}\")\n",
        "elif user_input == \"p\":\n",
        "  cal_parameter = side_1 + side_2 + side_3\n",
        "  print(f\"The parameter of your triangle is {cal_parameter}\")\n",
        "else:\n",
        "  print(\"Invalid Input\")"
      ]
    }
  ]
}