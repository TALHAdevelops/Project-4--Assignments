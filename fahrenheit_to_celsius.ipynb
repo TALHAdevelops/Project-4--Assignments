{
  "nbformat": 4,
  "nbformat_minor": 0,
  "metadata": {
    "colab": {
      "provenance": [],
      "authorship_tag": "ABX9TyM9dcDqD2p0LuA82KQTPFwX"
    },
    "kernelspec": {
      "name": "python3",
      "display_name": "Python 3"
    },
    "language_info": {
      "name": "python"
    }
  },
  "cells": [
    {
      "cell_type": "code",
      "execution_count": 3,
      "metadata": {
        "colab": {
          "base_uri": "https://localhost:8080/"
        },
        "id": "RIOIzUusqP84",
        "outputId": "be2ac249-7496-4e43-8358-dff2b8a1f4d1"
      },
      "outputs": [
        {
          "output_type": "stream",
          "name": "stdout",
          "text": [
            "Enter the temperature in Fahrenheit: 34234324934924.434324\n",
            "34234324934924.434 degrees Fahrenheit is equal to 19019069408273.574 degrees Celsius.\n"
          ]
        }
      ],
      "source": [
        "degrees_fahrenheit = float(input(\"Enter the temperature in Fahrenheit: \"))\n",
        "\n",
        "degrees_celsius = (degrees_fahrenheit - 32) * 5.0/9.0\n",
        "Result = f\"{degrees_fahrenheit} degrees Fahrenheit is equal to {degrees_celsius} degrees Celsius.\"\n",
        "print(Result)\n"
      ]
    }
  ]
}