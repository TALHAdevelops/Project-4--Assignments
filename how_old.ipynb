{
  "nbformat": 4,
  "nbformat_minor": 0,
  "metadata": {
    "colab": {
      "provenance": [],
      "authorship_tag": "ABX9TyNY4GJ8hRIezwBjjY3nZUgh"
    },
    "kernelspec": {
      "name": "python3",
      "display_name": "Python 3"
    },
    "language_info": {
      "name": "python"
    }
  },
  "cells": [
    {
      "cell_type": "code",
      "execution_count": 1,
      "metadata": {
        "colab": {
          "base_uri": "https://localhost:8080/"
        },
        "id": "k9PFc1qNs12p",
        "outputId": "d9ab619d-0ddb-461f-8dc1-de2bdee208ae"
      },
      "outputs": [
        {
          "output_type": "stream",
          "name": "stdout",
          "text": [
            "\n",
            "  Anton is 21 years old.\n",
            "  Beth is 27 years old.\n",
            "  Chen is 47 years old.\n",
            "  Drew is 68 years old.\n",
            "  Ethan is 47 years old.\n",
            "\n",
            "  \n"
          ]
        }
      ],
      "source": [
        "# in this project I'm creating a program in which I' calcilating the age of my friends and family memeber\n",
        "\n",
        "Anton_age = 21\n",
        "Beth_age = Anton_age + 6\n",
        "Chen_age = Beth_age + 20\n",
        "Drew_age = Chen_age + Anton_age\n",
        "Ethan_age = Chen_age\n",
        "\n",
        "\n",
        "Ages = f\"\"\"\n",
        "  Anton is {Anton_age} years old.\n",
        "  Beth is {Beth_age} years old.\n",
        "  Chen is {Chen_age} years old.\n",
        "  Drew is {Drew_age} years old.\n",
        "  Ethan is {Ethan_age} years old.\n",
        "\n",
        "  \"\"\"\n",
        "\n",
        "print(Ages)"
      ]
    }
  ]
}