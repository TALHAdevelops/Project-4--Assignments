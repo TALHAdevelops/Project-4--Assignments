{
  "nbformat": 4,
  "nbformat_minor": 0,
  "metadata": {
    "colab": {
      "provenance": [],
      "authorship_tag": "ABX9TyOdCXl4HzMbGywGLhkvbIOU"
    },
    "kernelspec": {
      "name": "python3",
      "display_name": "Python 3"
    },
    "language_info": {
      "name": "python"
    }
  },
  "cells": [
    {
      "cell_type": "code",
      "execution_count": 1,
      "metadata": {
        "colab": {
          "base_uri": "https://localhost:8080/"
        },
        "id": "YiLl1JtGaf-z",
        "outputId": "4b6ce108-a7a4-4083-a995-05282a18f8bb"
      },
      "outputs": [
        {
          "output_type": "stream",
          "name": "stdout",
          "text": [
            "Enter your name: talha\n",
            "Enter your class: 12\n",
            "Enter your roll number: 4\n",
            "My name is Talha. I am studying in class 12. My roll no is 4.\n"
          ]
        }
      ],
      "source": [
        "name = input(\"Enter your name: \").capitalize()\n",
        "Class = input(\"Enter your class: \")\n",
        "Roll = input(\"Enter your roll number: \")\n",
        "\n",
        "madlibs = f\"My name is {name}. I am studying in class {Class}. My roll no is {Roll}.\"\n",
        "\n",
        "print (madlibs);\n"
      ]
    }
  ]
}