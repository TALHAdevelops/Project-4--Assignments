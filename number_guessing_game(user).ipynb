{
  "nbformat": 4,
  "nbformat_minor": 0,
  "metadata": {
    "colab": {
      "provenance": [],
      "authorship_tag": "ABX9TyNIzCb2bvXUm4GYcdd1NEk5"
    },
    "kernelspec": {
      "name": "python3",
      "display_name": "Python 3"
    },
    "language_info": {
      "name": "python"
    }
  },
  "cells": [
    {
      "cell_type": "code",
      "execution_count": 1,
      "metadata": {
        "colab": {
          "base_uri": "https://localhost:8080/"
        },
        "id": "oJ18MsNVbjD_",
        "outputId": "91b303e2-5419-4b79-88dc-2612e5a64951"
      },
      "outputs": [
        {
          "output_type": "stream",
          "name": "stdout",
          "text": [
            "My guessed number is: 33\n",
            "Is this too high (H), too low (L), or correct (C)??l\n",
            "My guessed number is: 75\n",
            "Is this too high (H), too low (L), or correct (C)??h\n",
            "My guessed number is: 37\n",
            "Is this too high (H), too low (L), or correct (C)??l\n",
            "My guessed number is: 51\n",
            "Is this too high (H), too low (L), or correct (C)??h\n",
            "My guessed number is: 47\n",
            "Is this too high (H), too low (L), or correct (C)??h\n",
            "My guessed number is: 40\n",
            "Is this too high (H), too low (L), or correct (C)??l\n",
            "My guessed number is: 46\n",
            "Is this too high (H), too low (L), or correct (C)??h\n",
            "My guessed number is: 41\n",
            "Is this too high (H), too low (L), or correct (C)??l\n",
            "My guessed number is: 42\n",
            "Is this too high (H), too low (L), or correct (C)??c\n",
            "Hurrah! I(the computer) guessed your number, 42, correctly!\n"
          ]
        }
      ],
      "source": [
        "import random\n",
        "\n",
        "def guess_computer():\n",
        "    low = 1;\n",
        "    high = 100;\n",
        "    our_check = \"\"\n",
        "\n",
        "    while our_check != \"c\":\n",
        "        if low != high:\n",
        "            guess = random.randint(low, high)\n",
        "            print(f\"My guessed number is: {guess}\");\n",
        "\n",
        "        our_check = input(\"Is this too high (H), too low (L), or correct (C)??\").lower()\n",
        "        if our_check == \"h\":\n",
        "            high = guess - 1\n",
        "        elif our_check == \"l\":\n",
        "            low = guess + 1\n",
        "        elif our_check == \"c\":\n",
        "            print(f\"Hurrah! I(the computer) guessed your number, {guess}, correctly!\");\n",
        "        else:\n",
        "            print(\"Please enter H, L, or C\")\n",
        "\n",
        "guess_computer();"
      ]
    }
  ]
}